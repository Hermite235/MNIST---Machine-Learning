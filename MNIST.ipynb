{
 "cells": [
  {
   "cell_type": "code",
   "execution_count": 10,
   "id": "df6e342a-0831-440f-bd9d-629ab00d25d4",
   "metadata": {},
   "outputs": [],
   "source": [
    "from keras.datasets import mnist\n",
    "\n",
    "(train_images, train_labels), (test_images, test_labels) = mnist.load_data() "
   ]
  },
  {
   "cell_type": "code",
   "execution_count": 11,
   "id": "83288407-f6ba-44d8-bf3c-d76e4ce0b4b5",
   "metadata": {},
   "outputs": [
    {
     "data": {
      "text/plain": [
       "(60000, 28, 28)"
      ]
     },
     "execution_count": 11,
     "metadata": {},
     "output_type": "execute_result"
    }
   ],
   "source": [
    "train_images.shape"
   ]
  },
  {
   "cell_type": "code",
   "execution_count": 14,
   "id": "588e9ab4-1c7b-4241-8e1e-a97858c14f69",
   "metadata": {},
   "outputs": [],
   "source": [
    "train_images = train_images.reshape((60000,28*28))\n",
    "train_images = train_images.astype('float32') / 255\n",
    "\n",
    "test_images = test_images.reshape((10000,28*28))\n",
    "test_images = test_images.astype('float32') / 255"
   ]
  },
  {
   "cell_type": "code",
   "execution_count": 18,
   "id": "cd1c898c-fa0b-4433-86e3-f02011f7096f",
   "metadata": {},
   "outputs": [
    {
     "name": "stdout",
     "output_type": "stream",
     "text": [
      "Epoch 1/5\n",
      "469/469 [==============================] - 13s 26ms/step - loss: 2.2345 - acc: 0.2680\n",
      "Epoch 2/5\n",
      "469/469 [==============================] - 12s 25ms/step - loss: 1.6593 - acc: 0.6061\n",
      "Epoch 3/5\n",
      "469/469 [==============================] - 12s 25ms/step - loss: 1.0329 - acc: 0.7506\n",
      "Epoch 4/5\n",
      "469/469 [==============================] - 11s 24ms/step - loss: 0.7424 - acc: 0.8120\n",
      "Epoch 5/5\n",
      "469/469 [==============================] - 11s 24ms/step - loss: 0.6011 - acc: 0.8408\n"
     ]
    },
    {
     "data": {
      "text/plain": [
       "<keras.callbacks.History at 0x7f98194636d0>"
      ]
     },
     "execution_count": 18,
     "metadata": {},
     "output_type": "execute_result"
    }
   ],
   "source": [
    "from keras import models\n",
    "from keras import layers\n",
    "\n",
    "model = models.Sequential()\n",
    "model.add(layers.Dense(512, activation='relu', input_shape=(784,)))\n",
    "#model.add(layers.Dense(16, activation='relu'))\n",
    "model.add(layers.Dense(10, activation='softmax'))\n",
    "model.compile(optimizer= 'rmsprop',\n",
    "              loss='sparse_categorical_crossentropy',\n",
    "              metrics=['acc'])\n",
    "model.fit(train_images, train_labels, epochs=5, batch_size=128, validation_data=(test_images, test_labels))\n",
    ")\n"
   ]
  },
  {
   "cell_type": "code",
   "execution_count": 20,
   "id": "81930512-fd9f-45dd-bd37-f9d515359062",
   "metadata": {},
   "outputs": [
    {
     "name": "stdout",
     "output_type": "stream",
     "text": [
      "Epoch 1/5\n",
      "469/469 [==============================] - 12s 25ms/step - loss: 2.2406 - acc: 0.2603 - val_loss: 12.1430 - val_acc: 0.4257\n",
      "Epoch 2/5\n",
      "469/469 [==============================] - 12s 26ms/step - loss: 1.7085 - acc: 0.5668 - val_loss: 40.4722 - val_acc: 0.5417\n",
      "Epoch 3/5\n",
      "469/469 [==============================] - 12s 26ms/step - loss: 1.0891 - acc: 0.7322 - val_loss: 38.8340 - val_acc: 0.6872\n",
      "Epoch 4/5\n",
      "469/469 [==============================] - 13s 27ms/step - loss: 0.7835 - acc: 0.8023 - val_loss: 39.7769 - val_acc: 0.7355\n",
      "Epoch 5/5\n",
      "469/469 [==============================] - 12s 25ms/step - loss: 0.6291 - acc: 0.8335 - val_loss: 46.4248 - val_acc: 0.7363\n"
     ]
    },
    {
     "data": {
      "text/plain": [
       "<keras.callbacks.History at 0x7f9819510310>"
      ]
     },
     "execution_count": 20,
     "metadata": {},
     "output_type": "execute_result"
    }
   ],
   "source": [
    "\n",
    "models = models.Sequential()\n",
    "models.add(layers.Dense(512, activation='relu', input_shape=(784,)))\n",
    "#model.add(layers.Dense(16, activation='relu'))\n",
    "models.add(layers.Dense(10, activation='softmax'))\n",
    "models.compile(optimizer= 'rmsprop',\n",
    "              loss='sparse_categorical_crossentropy',\n",
    "              metrics=['acc'])\n",
    "models.fit(train_images, train_labels, epochs=5, batch_size=128, validation_data=(test_images, test_labels))\n"
   ]
  },
  {
   "cell_type": "code",
   "execution_count": null,
   "id": "06a0dad1-cb0a-4f91-8334-67a5f08d61eb",
   "metadata": {},
   "outputs": [],
   "source": []
  }
 ],
 "metadata": {
  "kernelspec": {
   "display_name": "Python 3 (ipykernel)",
   "language": "python",
   "name": "python3"
  },
  "language_info": {
   "codemirror_mode": {
    "name": "ipython",
    "version": 3
   },
   "file_extension": ".py",
   "mimetype": "text/x-python",
   "name": "python",
   "nbconvert_exporter": "python",
   "pygments_lexer": "ipython3",
   "version": "3.11.5"
  }
 },
 "nbformat": 4,
 "nbformat_minor": 5
}
